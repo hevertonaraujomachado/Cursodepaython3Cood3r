{
 "cells": [
  {
   "cell_type": "markdown",
   "id": "1ceab146",
   "metadata": {},
   "source": [
    "## Primeiros Exemplo"
   ]
  },
  {
   "cell_type": "code",
   "execution_count": 4,
   "id": "3c670791",
   "metadata": {},
   "outputs": [
    {
     "name": "stdout",
     "output_type": "stream",
     "text": [
      "Primeiro Progrma\n"
     ]
    }
   ],
   "source": [
    "print(\"Primeiro Progrma\")"
   ]
  },
  {
   "cell_type": "code",
   "execution_count": 5,
   "id": "10206164",
   "metadata": {},
   "outputs": [
    {
     "data": {
      "text/plain": [
       "46"
      ]
     },
     "execution_count": 5,
     "metadata": {},
     "output_type": "execute_result"
    }
   ],
   "source": [
    "12+34\n"
   ]
  },
  {
   "cell_type": "code",
   "execution_count": 7,
   "id": "499d7501",
   "metadata": {},
   "outputs": [
    {
     "data": {
      "text/plain": [
       "693439.3478260869"
      ]
     },
     "execution_count": 7,
     "metadata": {},
     "output_type": "execute_result"
    }
   ],
   "source": [
    "*10*23*45*67-245/23 "
   ]
  },
  {
   "cell_type": "code",
   "execution_count": 17,
   "id": "beeb3a0b",
   "metadata": {
    "scrolled": true
   },
   "outputs": [
    {
     "data": {
      "text/plain": [
       "0"
      ]
     },
     "execution_count": 17,
     "metadata": {},
     "output_type": "execute_result"
    }
   ],
   "source": [
    "20 +23+45\n",
    "45-45\n"
   ]
  },
  {
   "cell_type": "markdown",
   "id": "b3b4fb6a",
   "metadata": {},
   "source": [
    "# Tipos Basicos"
   ]
  },
  {
   "cell_type": "code",
   "execution_count": 24,
   "id": "a3d6faa9",
   "metadata": {},
   "outputs": [
    {
     "name": "stdout",
     "output_type": "stream",
     "text": [
      "True\n",
      "False\n",
      "2.2\n",
      "aqui eu falo na minha lingua\n",
      "tb funciona\n",
      "{'nome': 'pedro', 'idade': 22}\n",
      "[1, 2, 3]\n"
     ]
    }
   ],
   "source": [
    "\n",
    "\n",
    "print(True)\n",
    "print(False)\n",
    "print(1.2 +1)\n",
    "print('aqui eu falo na minha lingua')\n",
    "print(\"tb funciona\")\n",
    "print({'nome' : 'pedro', 'idade': 22})\n",
    "print ([1 ,2 , 3])"
   ]
  },
  {
   "cell_type": "markdown",
   "id": "dc7f5412",
   "metadata": {},
   "source": [
    "# Variáveis\n"
   ]
  },
  {
   "cell_type": "code",
   "execution_count": 25,
   "id": "bb5515ca",
   "metadata": {},
   "outputs": [
    {
     "name": "stdout",
     "output_type": "stream",
     "text": [
      "15.2\n"
     ]
    }
   ],
   "source": [
    "a = 10\n",
    "b = 5.2\n",
    "\n",
    "print(a+b)"
   ]
  },
  {
   "cell_type": "code",
   "execution_count": 33,
   "id": "62520167",
   "metadata": {},
   "outputs": [
    {
     "name": "stdout",
     "output_type": "stream",
     "text": [
      "10000\n"
     ]
    }
   ],
   "source": [
    "salario = 12345\n",
    "despesas =2345\n",
    "print(salario - despesas)"
   ]
  },
  {
   "cell_type": "code",
   "execution_count": null,
   "id": "6dfee26a",
   "metadata": {},
   "outputs": [],
   "source": []
  }
 ],
 "metadata": {
  "kernelspec": {
   "display_name": "Python 3",
   "language": "python",
   "name": "python3"
  },
  "language_info": {
   "codemirror_mode": {
    "name": "ipython",
    "version": 3
   },
   "file_extension": ".py",
   "mimetype": "text/x-python",
   "name": "python",
   "nbconvert_exporter": "python",
   "pygments_lexer": "ipython3",
   "version": "3.8.8"
  }
 },
 "nbformat": 4,
 "nbformat_minor": 5
}
